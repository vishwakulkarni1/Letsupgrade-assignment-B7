{
 "cells": [
  {
   "cell_type": "code",
   "execution_count": 4,
   "metadata": {},
   "outputs": [
    {
     "name": "stdout",
     "output_type": "stream",
     "text": [
      "Enter altitude: 950\n",
      "Safe to land\n"
     ]
    }
   ],
   "source": [
    "altitude=int(input(\"Enter altitude: \"))\n",
    "if(altitude<1000):\n",
    "    print(\"Safe to land\")\n",
    "elif(altitude<5000):\n",
    "    print(\"Bring down to 1000ft\")\n",
    "else:\n",
    "    print(\"Turn Around\")"
   ]
  },
  {
   "cell_type": "code",
   "execution_count": 5,
   "metadata": {},
   "outputs": [
    {
     "name": "stdout",
     "output_type": "stream",
     "text": [
      "Enter altitude: 1450\n",
      "Bring down to 1000ft\n"
     ]
    }
   ],
   "source": [
    "altitude=int(input(\"Enter altitude: \"))\n",
    "if(altitude<1000):\n",
    "    print(\"Safe to land\")\n",
    "elif(altitude<5000):\n",
    "    print(\"Bring down to 1000ft\")\n",
    "else:\n",
    "    print(\"Turn Around\")"
   ]
  },
  {
   "cell_type": "code",
   "execution_count": 6,
   "metadata": {},
   "outputs": [
    {
     "name": "stdout",
     "output_type": "stream",
     "text": [
      "Enter altitude: 6000\n",
      "Turn Around\n"
     ]
    }
   ],
   "source": [
    "altitude=int(input(\"Enter altitude: \"))\n",
    "if(altitude<1000):\n",
    "    print(\"Safe to land\")\n",
    "elif(altitude<5000):\n",
    "    print(\"Bring down to 1000ft\")\n",
    "else:\n",
    "    print(\"Turn Around\")"
   ]
  },
  {
   "cell_type": "code",
   "execution_count": null,
   "metadata": {},
   "outputs": [],
   "source": []
  }
 ],
 "metadata": {
  "kernelspec": {
   "display_name": "Python 3",
   "language": "python",
   "name": "python3"
  },
  "language_info": {
   "codemirror_mode": {
    "name": "ipython",
    "version": 3
   },
   "file_extension": ".py",
   "mimetype": "text/x-python",
   "name": "python",
   "nbconvert_exporter": "python",
   "pygments_lexer": "ipython3",
   "version": "3.7.6"
  }
 },
 "nbformat": 4,
 "nbformat_minor": 4
}
